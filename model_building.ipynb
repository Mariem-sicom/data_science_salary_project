{
 "cells": [
  {
   "cell_type": "code",
   "execution_count": 1,
   "metadata": {},
   "outputs": [],
   "source": [
    "import pandas as pd\n",
    "import matplotlib.pyplot as plt\n",
    "import numpy as np"
   ]
  },
  {
   "cell_type": "code",
   "execution_count": 2,
   "metadata": {},
   "outputs": [
    {
     "data": {
      "text/html": [
       "<div>\n",
       "<style scoped>\n",
       "    .dataframe tbody tr th:only-of-type {\n",
       "        vertical-align: middle;\n",
       "    }\n",
       "\n",
       "    .dataframe tbody tr th {\n",
       "        vertical-align: top;\n",
       "    }\n",
       "\n",
       "    .dataframe thead th {\n",
       "        text-align: right;\n",
       "    }\n",
       "</style>\n",
       "<table border=\"1\" class=\"dataframe\">\n",
       "  <thead>\n",
       "    <tr style=\"text-align: right;\">\n",
       "      <th></th>\n",
       "      <th>Job Title</th>\n",
       "      <th>Salary Estimate</th>\n",
       "      <th>Job Description</th>\n",
       "      <th>Rating</th>\n",
       "      <th>Company Name</th>\n",
       "      <th>Location</th>\n",
       "      <th>Size</th>\n",
       "      <th>Founded</th>\n",
       "      <th>Type of ownership</th>\n",
       "      <th>Industry</th>\n",
       "      <th>...</th>\n",
       "      <th>Average_salary</th>\n",
       "      <th>Job_State</th>\n",
       "      <th>Company_age</th>\n",
       "      <th>Python_yn</th>\n",
       "      <th>AI_yn</th>\n",
       "      <th>ML_yn</th>\n",
       "      <th>Statistic_yn</th>\n",
       "      <th>Simplified_title</th>\n",
       "      <th>Seniority</th>\n",
       "      <th>desc_len</th>\n",
       "    </tr>\n",
       "  </thead>\n",
       "  <tbody>\n",
       "    <tr>\n",
       "      <th>0</th>\n",
       "      <td>Data Scientist</td>\n",
       "      <td>$64K - $106K (Glassdoor est.)</td>\n",
       "      <td>Secure our Nation, Ignite your Future\\nOvervie...</td>\n",
       "      <td>4.2</td>\n",
       "      <td>ManTech International Corporation</td>\n",
       "      <td>Alexandria, VA</td>\n",
       "      <td>5001 to 10000 Employees</td>\n",
       "      <td>1968</td>\n",
       "      <td>Company - Public</td>\n",
       "      <td>Research &amp; Development</td>\n",
       "      <td>...</td>\n",
       "      <td>85.0</td>\n",
       "      <td>VA</td>\n",
       "      <td>53</td>\n",
       "      <td>0</td>\n",
       "      <td>1</td>\n",
       "      <td>0</td>\n",
       "      <td>0</td>\n",
       "      <td>data scientist</td>\n",
       "      <td>not_specified</td>\n",
       "      <td>947</td>\n",
       "    </tr>\n",
       "    <tr>\n",
       "      <th>1</th>\n",
       "      <td>Sr. Data Scientist</td>\n",
       "      <td>$83K - $138K (Glassdoor est.)</td>\n",
       "      <td>Sr. Data Scientist -INF0001YE\\nDescription\\n\\n...</td>\n",
       "      <td>3.6</td>\n",
       "      <td>CNA Insurance</td>\n",
       "      <td>Chicago, IL</td>\n",
       "      <td>1001 to 5000 Employees</td>\n",
       "      <td>1897</td>\n",
       "      <td>Company - Public</td>\n",
       "      <td>Insurance Carriers</td>\n",
       "      <td>...</td>\n",
       "      <td>110.5</td>\n",
       "      <td>IL</td>\n",
       "      <td>124</td>\n",
       "      <td>0</td>\n",
       "      <td>0</td>\n",
       "      <td>0</td>\n",
       "      <td>0</td>\n",
       "      <td>data scientist</td>\n",
       "      <td>senior</td>\n",
       "      <td>522</td>\n",
       "    </tr>\n",
       "    <tr>\n",
       "      <th>2</th>\n",
       "      <td>R&amp;D Scientist</td>\n",
       "      <td>$38K - $68K (Glassdoor est.)</td>\n",
       "      <td>LGC, Biosearch Technologies is seeking a detai...</td>\n",
       "      <td>3.5</td>\n",
       "      <td>LGC Limited</td>\n",
       "      <td>Middleton, WI</td>\n",
       "      <td>1001 to 5000 Employees</td>\n",
       "      <td>1842</td>\n",
       "      <td>Company - Private</td>\n",
       "      <td>Biotech &amp; Pharmaceuticals</td>\n",
       "      <td>...</td>\n",
       "      <td>53.0</td>\n",
       "      <td>WI</td>\n",
       "      <td>179</td>\n",
       "      <td>0</td>\n",
       "      <td>1</td>\n",
       "      <td>0</td>\n",
       "      <td>0</td>\n",
       "      <td>not_specified</td>\n",
       "      <td>not_specified</td>\n",
       "      <td>635</td>\n",
       "    </tr>\n",
       "    <tr>\n",
       "      <th>3</th>\n",
       "      <td>Data Scientist</td>\n",
       "      <td>$71K - $119K (Glassdoor est.)</td>\n",
       "      <td>Who Are We?\\nQinetiQ Inc. is a leading innovat...</td>\n",
       "      <td>2.5</td>\n",
       "      <td>QinetiQ Inc.</td>\n",
       "      <td>Lorton, VA</td>\n",
       "      <td>501 to 1000 Employees</td>\n",
       "      <td>1956</td>\n",
       "      <td>Subsidiary or Business Segment</td>\n",
       "      <td>Aerospace &amp; Defense</td>\n",
       "      <td>...</td>\n",
       "      <td>95.0</td>\n",
       "      <td>VA</td>\n",
       "      <td>65</td>\n",
       "      <td>0</td>\n",
       "      <td>1</td>\n",
       "      <td>1</td>\n",
       "      <td>0</td>\n",
       "      <td>data scientist</td>\n",
       "      <td>not_specified</td>\n",
       "      <td>1084</td>\n",
       "    </tr>\n",
       "    <tr>\n",
       "      <th>4</th>\n",
       "      <td>Data Engineer</td>\n",
       "      <td>$44K - $87K (Glassdoor est.)</td>\n",
       "      <td>Schedule: Mon- Fri Overview:\\nThe data enginee...</td>\n",
       "      <td>3.8</td>\n",
       "      <td>America First Credit Union</td>\n",
       "      <td>Ogden, UT</td>\n",
       "      <td>1001 to 5000 Employees</td>\n",
       "      <td>1939</td>\n",
       "      <td>Nonprofit Organization</td>\n",
       "      <td>Investment Banking &amp; Asset Management</td>\n",
       "      <td>...</td>\n",
       "      <td>65.5</td>\n",
       "      <td>UT</td>\n",
       "      <td>82</td>\n",
       "      <td>0</td>\n",
       "      <td>0</td>\n",
       "      <td>0</td>\n",
       "      <td>0</td>\n",
       "      <td>data engineer</td>\n",
       "      <td>not_specified</td>\n",
       "      <td>898</td>\n",
       "    </tr>\n",
       "  </tbody>\n",
       "</table>\n",
       "<p>5 rows × 26 columns</p>\n",
       "</div>"
      ],
      "text/plain": [
       "            Job Title                Salary Estimate  \\\n",
       "0      Data Scientist  $64K - $106K (Glassdoor est.)   \n",
       "1  Sr. Data Scientist  $83K - $138K (Glassdoor est.)   \n",
       "2       R&D Scientist   $38K - $68K (Glassdoor est.)   \n",
       "3      Data Scientist  $71K - $119K (Glassdoor est.)   \n",
       "4       Data Engineer   $44K - $87K (Glassdoor est.)   \n",
       "\n",
       "                                     Job Description  Rating  \\\n",
       "0  Secure our Nation, Ignite your Future\\nOvervie...     4.2   \n",
       "1  Sr. Data Scientist -INF0001YE\\nDescription\\n\\n...     3.6   \n",
       "2  LGC, Biosearch Technologies is seeking a detai...     3.5   \n",
       "3  Who Are We?\\nQinetiQ Inc. is a leading innovat...     2.5   \n",
       "4  Schedule: Mon- Fri Overview:\\nThe data enginee...     3.8   \n",
       "\n",
       "                        Company Name        Location                     Size  \\\n",
       "0  ManTech International Corporation  Alexandria, VA  5001 to 10000 Employees   \n",
       "1                      CNA Insurance     Chicago, IL   1001 to 5000 Employees   \n",
       "2                        LGC Limited   Middleton, WI   1001 to 5000 Employees   \n",
       "3                       QinetiQ Inc.      Lorton, VA    501 to 1000 Employees   \n",
       "4         America First Credit Union       Ogden, UT   1001 to 5000 Employees   \n",
       "\n",
       "   Founded               Type of ownership  \\\n",
       "0     1968                Company - Public   \n",
       "1     1897                Company - Public   \n",
       "2     1842               Company - Private   \n",
       "3     1956  Subsidiary or Business Segment   \n",
       "4     1939          Nonprofit Organization   \n",
       "\n",
       "                                Industry  ... Average_salary Job_State  \\\n",
       "0                 Research & Development  ...           85.0        VA   \n",
       "1                     Insurance Carriers  ...          110.5        IL   \n",
       "2              Biotech & Pharmaceuticals  ...           53.0        WI   \n",
       "3                    Aerospace & Defense  ...           95.0        VA   \n",
       "4  Investment Banking & Asset Management  ...           65.5        UT   \n",
       "\n",
       "   Company_age Python_yn  AI_yn  ML_yn  Statistic_yn Simplified_title  \\\n",
       "0           53         0      1      0             0   data scientist   \n",
       "1          124         0      0      0             0   data scientist   \n",
       "2          179         0      1      0             0    not_specified   \n",
       "3           65         0      1      1             0   data scientist   \n",
       "4           82         0      0      0             0    data engineer   \n",
       "\n",
       "       Seniority  desc_len  \n",
       "0  not_specified       947  \n",
       "1         senior       522  \n",
       "2  not_specified       635  \n",
       "3  not_specified      1084  \n",
       "4  not_specified       898  \n",
       "\n",
       "[5 rows x 26 columns]"
      ]
     },
     "execution_count": 2,
     "metadata": {},
     "output_type": "execute_result"
    }
   ],
   "source": [
    "data = pd.read_csv('cleaned_data.csv')\n",
    "data.head()"
   ]
  },
  {
   "cell_type": "markdown",
   "metadata": {},
   "source": [
    "### Choose relevant columns"
   ]
  },
  {
   "cell_type": "code",
   "execution_count": 3,
   "metadata": {},
   "outputs": [
    {
     "data": {
      "text/plain": [
       "Index(['Job Title', 'Salary Estimate', 'Job Description', 'Rating',\n",
       "       'Company Name', 'Location', 'Size', 'Founded', 'Type of ownership',\n",
       "       'Industry', 'Sector', 'Revenue', 'Per_hour', 'Salary', 'Min_salary',\n",
       "       'Max_salary', 'Average_salary', 'Job_State', 'Company_age', 'Python_yn',\n",
       "       'AI_yn', 'ML_yn', 'Statistic_yn', 'Simplified_title', 'Seniority',\n",
       "       'desc_len'],\n",
       "      dtype='object')"
      ]
     },
     "execution_count": 3,
     "metadata": {},
     "output_type": "execute_result"
    }
   ],
   "source": [
    "data.columns"
   ]
  },
  {
   "cell_type": "code",
   "execution_count": 4,
   "metadata": {},
   "outputs": [],
   "source": [
    "model_columns = data[['Average_salary','Rating', 'Size', 'Type of ownership','Industry',\n",
    "                      'Revenue', 'Per_hour','Job_State', 'Company_age', 'Python_yn',\n",
    "                      'Simplified_title', 'Seniority']]"
   ]
  },
  {
   "cell_type": "markdown",
   "metadata": {},
   "source": [
    "### Transform categorical variables"
   ]
  },
  {
   "cell_type": "code",
   "execution_count": 5,
   "metadata": {},
   "outputs": [],
   "source": [
    "df_dum = pd.get_dummies(model_columns, drop_first=False)"
   ]
  },
  {
   "cell_type": "code",
   "execution_count": 6,
   "metadata": {},
   "outputs": [
    {
     "data": {
      "text/html": [
       "<div>\n",
       "<style scoped>\n",
       "    .dataframe tbody tr th:only-of-type {\n",
       "        vertical-align: middle;\n",
       "    }\n",
       "\n",
       "    .dataframe tbody tr th {\n",
       "        vertical-align: top;\n",
       "    }\n",
       "\n",
       "    .dataframe thead th {\n",
       "        text-align: right;\n",
       "    }\n",
       "</style>\n",
       "<table border=\"1\" class=\"dataframe\">\n",
       "  <thead>\n",
       "    <tr style=\"text-align: right;\">\n",
       "      <th></th>\n",
       "      <th>Average_salary</th>\n",
       "      <th>Rating</th>\n",
       "      <th>Per_hour</th>\n",
       "      <th>Company_age</th>\n",
       "      <th>Python_yn</th>\n",
       "      <th>Size_-1</th>\n",
       "      <th>Size_1 to 50 Employees</th>\n",
       "      <th>Size_10000+ Employees</th>\n",
       "      <th>Size_1001 to 5000 Employees</th>\n",
       "      <th>Size_201 to 500 Employees</th>\n",
       "      <th>...</th>\n",
       "      <th>Simplified_title_analyst</th>\n",
       "      <th>Simplified_title_data engineer</th>\n",
       "      <th>Simplified_title_data scientist</th>\n",
       "      <th>Simplified_title_director</th>\n",
       "      <th>Simplified_title_manager</th>\n",
       "      <th>Simplified_title_ml</th>\n",
       "      <th>Simplified_title_not_specified</th>\n",
       "      <th>Seniority_junior</th>\n",
       "      <th>Seniority_not_specified</th>\n",
       "      <th>Seniority_senior</th>\n",
       "    </tr>\n",
       "  </thead>\n",
       "  <tbody>\n",
       "    <tr>\n",
       "      <th>0</th>\n",
       "      <td>85.0</td>\n",
       "      <td>4.2</td>\n",
       "      <td>0</td>\n",
       "      <td>53</td>\n",
       "      <td>0</td>\n",
       "      <td>0</td>\n",
       "      <td>0</td>\n",
       "      <td>0</td>\n",
       "      <td>0</td>\n",
       "      <td>0</td>\n",
       "      <td>...</td>\n",
       "      <td>0</td>\n",
       "      <td>0</td>\n",
       "      <td>1</td>\n",
       "      <td>0</td>\n",
       "      <td>0</td>\n",
       "      <td>0</td>\n",
       "      <td>0</td>\n",
       "      <td>0</td>\n",
       "      <td>1</td>\n",
       "      <td>0</td>\n",
       "    </tr>\n",
       "    <tr>\n",
       "      <th>1</th>\n",
       "      <td>110.5</td>\n",
       "      <td>3.6</td>\n",
       "      <td>0</td>\n",
       "      <td>124</td>\n",
       "      <td>0</td>\n",
       "      <td>0</td>\n",
       "      <td>0</td>\n",
       "      <td>0</td>\n",
       "      <td>1</td>\n",
       "      <td>0</td>\n",
       "      <td>...</td>\n",
       "      <td>0</td>\n",
       "      <td>0</td>\n",
       "      <td>1</td>\n",
       "      <td>0</td>\n",
       "      <td>0</td>\n",
       "      <td>0</td>\n",
       "      <td>0</td>\n",
       "      <td>0</td>\n",
       "      <td>0</td>\n",
       "      <td>1</td>\n",
       "    </tr>\n",
       "    <tr>\n",
       "      <th>2</th>\n",
       "      <td>53.0</td>\n",
       "      <td>3.5</td>\n",
       "      <td>0</td>\n",
       "      <td>179</td>\n",
       "      <td>0</td>\n",
       "      <td>0</td>\n",
       "      <td>0</td>\n",
       "      <td>0</td>\n",
       "      <td>1</td>\n",
       "      <td>0</td>\n",
       "      <td>...</td>\n",
       "      <td>0</td>\n",
       "      <td>0</td>\n",
       "      <td>0</td>\n",
       "      <td>0</td>\n",
       "      <td>0</td>\n",
       "      <td>0</td>\n",
       "      <td>1</td>\n",
       "      <td>0</td>\n",
       "      <td>1</td>\n",
       "      <td>0</td>\n",
       "    </tr>\n",
       "    <tr>\n",
       "      <th>3</th>\n",
       "      <td>95.0</td>\n",
       "      <td>2.5</td>\n",
       "      <td>0</td>\n",
       "      <td>65</td>\n",
       "      <td>0</td>\n",
       "      <td>0</td>\n",
       "      <td>0</td>\n",
       "      <td>0</td>\n",
       "      <td>0</td>\n",
       "      <td>0</td>\n",
       "      <td>...</td>\n",
       "      <td>0</td>\n",
       "      <td>0</td>\n",
       "      <td>1</td>\n",
       "      <td>0</td>\n",
       "      <td>0</td>\n",
       "      <td>0</td>\n",
       "      <td>0</td>\n",
       "      <td>0</td>\n",
       "      <td>1</td>\n",
       "      <td>0</td>\n",
       "    </tr>\n",
       "    <tr>\n",
       "      <th>4</th>\n",
       "      <td>65.5</td>\n",
       "      <td>3.8</td>\n",
       "      <td>0</td>\n",
       "      <td>82</td>\n",
       "      <td>0</td>\n",
       "      <td>0</td>\n",
       "      <td>0</td>\n",
       "      <td>0</td>\n",
       "      <td>1</td>\n",
       "      <td>0</td>\n",
       "      <td>...</td>\n",
       "      <td>0</td>\n",
       "      <td>1</td>\n",
       "      <td>0</td>\n",
       "      <td>0</td>\n",
       "      <td>0</td>\n",
       "      <td>0</td>\n",
       "      <td>0</td>\n",
       "      <td>0</td>\n",
       "      <td>1</td>\n",
       "      <td>0</td>\n",
       "    </tr>\n",
       "  </tbody>\n",
       "</table>\n",
       "<p>5 rows × 121 columns</p>\n",
       "</div>"
      ],
      "text/plain": [
       "   Average_salary  Rating  Per_hour  Company_age  Python_yn  Size_-1  \\\n",
       "0            85.0     4.2         0           53          0        0   \n",
       "1           110.5     3.6         0          124          0        0   \n",
       "2            53.0     3.5         0          179          0        0   \n",
       "3            95.0     2.5         0           65          0        0   \n",
       "4            65.5     3.8         0           82          0        0   \n",
       "\n",
       "   Size_1 to 50 Employees  Size_10000+ Employees  Size_1001 to 5000 Employees  \\\n",
       "0                       0                      0                            0   \n",
       "1                       0                      0                            1   \n",
       "2                       0                      0                            1   \n",
       "3                       0                      0                            0   \n",
       "4                       0                      0                            1   \n",
       "\n",
       "   Size_201 to 500 Employees  ...  Simplified_title_analyst  \\\n",
       "0                          0  ...                         0   \n",
       "1                          0  ...                         0   \n",
       "2                          0  ...                         0   \n",
       "3                          0  ...                         0   \n",
       "4                          0  ...                         0   \n",
       "\n",
       "   Simplified_title_data engineer  Simplified_title_data scientist  \\\n",
       "0                               0                                1   \n",
       "1                               0                                1   \n",
       "2                               0                                0   \n",
       "3                               0                                1   \n",
       "4                               1                                0   \n",
       "\n",
       "   Simplified_title_director  Simplified_title_manager  Simplified_title_ml  \\\n",
       "0                          0                         0                    0   \n",
       "1                          0                         0                    0   \n",
       "2                          0                         0                    0   \n",
       "3                          0                         0                    0   \n",
       "4                          0                         0                    0   \n",
       "\n",
       "   Simplified_title_not_specified  Seniority_junior  Seniority_not_specified  \\\n",
       "0                               0                 0                        1   \n",
       "1                               0                 0                        0   \n",
       "2                               1                 0                        1   \n",
       "3                               0                 0                        1   \n",
       "4                               0                 0                        1   \n",
       "\n",
       "   Seniority_senior  \n",
       "0                 0  \n",
       "1                 1  \n",
       "2                 0  \n",
       "3                 0  \n",
       "4                 0  \n",
       "\n",
       "[5 rows x 121 columns]"
      ]
     },
     "execution_count": 6,
     "metadata": {},
     "output_type": "execute_result"
    }
   ],
   "source": [
    "df_dum.head()"
   ]
  },
  {
   "cell_type": "code",
   "execution_count": 7,
   "metadata": {},
   "outputs": [
    {
     "data": {
      "text/plain": [
       "Index(['Average_salary', 'Rating', 'Per_hour', 'Company_age', 'Python_yn',\n",
       "       'Size_-1', 'Size_1 to 50 Employees', 'Size_10000+ Employees',\n",
       "       'Size_1001 to 5000 Employees', 'Size_201 to 500 Employees',\n",
       "       ...\n",
       "       'Simplified_title_analyst', 'Simplified_title_data engineer',\n",
       "       'Simplified_title_data scientist', 'Simplified_title_director',\n",
       "       'Simplified_title_manager', 'Simplified_title_ml',\n",
       "       'Simplified_title_not_specified', 'Seniority_junior',\n",
       "       'Seniority_not_specified', 'Seniority_senior'],\n",
       "      dtype='object', length=121)"
      ]
     },
     "execution_count": 7,
     "metadata": {},
     "output_type": "execute_result"
    }
   ],
   "source": [
    "df_dum.columns"
   ]
  },
  {
   "cell_type": "markdown",
   "metadata": {},
   "source": [
    "### Train and Test split"
   ]
  },
  {
   "cell_type": "code",
   "execution_count": 8,
   "metadata": {},
   "outputs": [],
   "source": [
    "X = df_dum.iloc[:,1:]\n",
    "y = df_dum.iloc[:,0]"
   ]
  },
  {
   "cell_type": "code",
   "execution_count": 9,
   "metadata": {},
   "outputs": [],
   "source": [
    "from sklearn.model_selection import train_test_split\n",
    "X_train, X_test, y_train, y_test = train_test_split(X, y, test_size=0.2, random_state=42)"
   ]
  },
  {
   "cell_type": "markdown",
   "metadata": {},
   "source": [
    "### Multiple Linear Regression"
   ]
  },
  {
   "cell_type": "code",
   "execution_count": 10,
   "metadata": {},
   "outputs": [
    {
     "name": "stdout",
     "output_type": "stream",
     "text": [
      "-42.307280139001605\n"
     ]
    },
    {
     "data": {
      "text/plain": [
       "LinearRegression()"
      ]
     },
     "execution_count": 10,
     "metadata": {},
     "output_type": "execute_result"
    }
   ],
   "source": [
    "from sklearn.linear_model import LinearRegression\n",
    "from sklearn.model_selection import cross_val_score\n",
    "from sklearn.metrics import mean_absolute_error\n",
    "\n",
    "mult_reg = LinearRegression()\n",
    "mult_reg_score = np.mean(cross_val_score(mult_reg, X_train, y_train, cv=3, scoring='neg_mean_absolute_error'))\n",
    "print(mult_reg_score)\n",
    "\n",
    "mult_reg.fit(X_train, y_train)"
   ]
  },
  {
   "cell_type": "markdown",
   "metadata": {},
   "source": [
    "### Lasso Regression\n",
    "\n",
    "As the number of independent variables is very close to the number of observations, we propose to use the Lasso Regression as it performs variable selection"
   ]
  },
  {
   "cell_type": "code",
   "execution_count": 11,
   "metadata": {},
   "outputs": [
    {
     "data": {
      "text/plain": [
       "Text(0, 0.5, 'error')"
      ]
     },
     "execution_count": 11,
     "metadata": {},
     "output_type": "execute_result"
    },
    {
     "data": {
      "image/png": "[encoded data removed]",
      "text/plain": [
       "<Figure size 432x288 with 1 Axes>"
      ]
     },
     "metadata": {
      "needs_background": "light"
     },
     "output_type": "display_data"
    }
   ],
   "source": [
    "from sklearn.linear_model import Lasso\n",
    "\n",
    "# Testing Lasso with different values of alpha\n",
    "alpha=[]\n",
    "error=[]\n",
    "for i in range(1,500,10):\n",
    "    alpha.append(i/100)\n",
    "    lasso_reg = Lasso(alpha=i/100)\n",
    "    error.append(np.mean(cross_val_score(lasso_reg, X_train, y_train, cv=3, scoring='neg_mean_absolute_error')))\n",
    "plt.plot(alpha, error)\n",
    "plt.xlabel(\"alpha\")\n",
    "plt.ylabel(\"error\")"
   ]
  },
  {
   "cell_type": "code",
   "execution_count": 12,
   "metadata": {},
   "outputs": [
    {
     "name": "stdout",
     "output_type": "stream",
     "text": [
      "-21.973593352845445\n"
     ]
    },
    {
     "data": {
      "text/plain": [
       "Lasso(alpha=0.41)"
      ]
     },
     "execution_count": 12,
     "metadata": {},
     "output_type": "execute_result"
    }
   ],
   "source": [
    "# Choosing alpha so that it gives the smallest error value\n",
    "max_index = error.index(max(error))\n",
    "optimal_alpha = alpha[max_index]\n",
    "\n",
    "optim_lasso = Lasso(alpha=optimal_alpha)\n",
    "lasso_score = np.mean(cross_val_score(lasso_reg, X_train, y_train, cv=3, scoring='neg_mean_absolute_error'))\n",
    "print(lasso_score)\n",
    "\n",
    "optim_lasso.fit(X_train, y_train)"
   ]
  },
  {
   "cell_type": "markdown",
   "metadata": {},
   "source": [
    "### Random Forest"
   ]
  },
  {
   "cell_type": "code",
   "execution_count": 13,
   "metadata": {},
   "outputs": [
    {
     "name": "stdout",
     "output_type": "stream",
     "text": [
      "-15.157814351851853\n"
     ]
    }
   ],
   "source": [
    "from sklearn.ensemble import RandomForestRegressor\n",
    "\n",
    "rand_forest = RandomForestRegressor(n_jobs=-1)\n",
    "rand_forest_score = np.mean(cross_val_score(rand_forest, X_train, y_train, cv=3, scoring='neg_mean_absolute_error'))\n",
    "print(rand_forest_score)"
   ]
  },
  {
   "cell_type": "code",
   "execution_count": 14,
   "metadata": {},
   "outputs": [
    {
     "name": "stdout",
     "output_type": "stream",
     "text": [
      "-14.76414470899471\n",
      "RandomForestRegressor(n_estimators=50, n_jobs=-1)\n"
     ]
    }
   ],
   "source": [
    "# Tune the Random Forest model with GridsearchCV\n",
    "from sklearn.model_selection import GridSearchCV\n",
    "\n",
    "parameters = {'criterion' : ('mse', 'mae'), 'n_estimators':range(10,300,10), 'max_features': ('auto', 'sqrt', 'log2')}\n",
    "\n",
    "CV_rf = GridSearchCV(rand_forest, parameters, scoring='neg_mean_absolute_error', cv= 5)\n",
    "CV_rf.fit(X_train, y_train)\n",
    "print(CV_rf.best_score_)\n",
    "print(CV_rf.best_estimator_)"
   ]
  },
  {
   "cell_type": "markdown",
   "metadata": {},
   "source": [
    "### Testing"
   ]
  },
  {
   "cell_type": "code",
   "execution_count": 15,
   "metadata": {},
   "outputs": [
    {
     "name": "stdout",
     "output_type": "stream",
     "text": [
      "Testing score with multiple linear regression model:  22.87430111982231\n",
      "Testing score with lasso model:  16.700535276016094\n",
      "Testing score with Random Forest model:  15.917907407407407\n"
     ]
    }
   ],
   "source": [
    "y_pred_mult_reg = mult_reg.predict(X_test)\n",
    "y_pred_lasso = optim_lasso.predict(X_test)\n",
    "y_pred_rf = CV_rf.best_estimator_.predict(X_test)\n",
    "\n",
    "test_score_mult_reg = mean_absolute_error(y_test, y_pred_mult_reg)\n",
    "print('Testing score with multiple linear regression model: ',test_score_mult_reg)\n",
    "\n",
    "test_score_lasso = mean_absolute_error(y_test, y_pred_lasso)\n",
    "print('Testing score with lasso model: ',test_score_lasso)\n",
    "\n",
    "test_score_rf = mean_absolute_error(y_test, y_pred_rf)\n",
    "print('Testing score with Random Forest model: ',test_score_rf)"
   ]
  },
  {
   "cell_type": "markdown",
   "metadata": {},
   "source": [
    "### Pickle the model\n",
    "\n",
    "Pickling converts the model into an object which can be stored, transferred, and converted back to the original model at a later time."
   ]
  },
  {
   "cell_type": "code",
   "execution_count": 16,
   "metadata": {},
   "outputs": [],
   "source": [
    "import pickle\n",
    "\n",
    "pickl = {'model': CV_rf.best_estimator_}\n",
    "pickle.dump( pickl, open( 'model_file' + \".p\", \"wb\" ) )"
   ]
  },
  {
   "cell_type": "code",
   "execution_count": 18,
   "metadata": {},
   "outputs": [
    {
     "name": "stdout",
     "output_type": "stream",
     "text": [
      "[3.7, 0.0, 92.0, 0.0, 0.0, 0.0, 1.0, 0.0, 0.0, 0.0, 0.0, 0.0, 0.0, 0.0, 0.0, 0.0, 0.0, 0.0, 0.0, 1.0, 0.0, 0.0, 0.0, 0.0, 0.0, 0.0, 0.0, 0.0, 0.0, 0.0, 0.0, 0.0, 0.0, 0.0, 0.0, 0.0, 0.0, 0.0, 0.0, 0.0, 0.0, 0.0, 0.0, 0.0, 0.0, 0.0, 0.0, 0.0, 0.0, 0.0, 0.0, 0.0, 0.0, 0.0, 1.0, 0.0, 0.0, 0.0, 0.0, 0.0, 0.0, 0.0, 0.0, 0.0, 0.0, 0.0, 0.0, 1.0, 0.0, 0.0, 0.0, 0.0, 0.0, 0.0, 0.0, 0.0, 0.0, 0.0, 0.0, 0.0, 0.0, 0.0, 0.0, 0.0, 0.0, 0.0, 0.0, 0.0, 0.0, 0.0, 0.0, 0.0, 0.0, 0.0, 0.0, 0.0, 0.0, 0.0, 1.0, 0.0, 0.0, 0.0, 0.0, 0.0, 0.0, 0.0, 0.0, 0.0, 0.0, 0.0, 0.0, 0.0, 1.0, 0.0, 0.0, 0.0, 0.0, 0.0, 1.0, 0.0]\n",
      "The predicted salary:  123.20666666666666\n"
     ]
    }
   ],
   "source": [
    "# Testing the model\n",
    "\n",
    "file_name = \"model_file.p\"\n",
    "with open(file_name, 'rb') as pickled:\n",
    "    data = pickle.load(pickled)\n",
    "    model = data['model']\n",
    "\n",
    "print(list(X_test.iloc[5,:]))\n",
    "y_predict = model.predict(np.array(list(X_test.iloc[5,:])).reshape(1,-1))[0]\n",
    "print ('The predicted salary: ', y_predict)"
   ]
  }
 ],
 "metadata": {
  "kernelspec": {
   "display_name": "Python 3",
   "language": "python",
   "name": "python3"
  },
  "language_info": {
   "codemirror_mode": {
    "name": "ipython",
    "version": 3
   },
   "file_extension": ".py",
   "mimetype": "text/x-python",
   "name": "python",
   "nbconvert_exporter": "python",
   "pygments_lexer": "ipython3",
   "version": "3.8.6"
  }
 },
 "nbformat": 4,
 "nbformat_minor": 4
}
